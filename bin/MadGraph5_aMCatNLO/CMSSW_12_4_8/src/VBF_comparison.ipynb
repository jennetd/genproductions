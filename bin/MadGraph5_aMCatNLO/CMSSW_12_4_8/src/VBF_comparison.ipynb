{
 "cells": [
  {
   "cell_type": "code",
   "execution_count": 1,
   "id": "706dd98b",
   "metadata": {},
   "outputs": [
    {
     "name": "stderr",
     "output_type": "stream",
     "text": [
      "/cvmfs/cms.cern.ch/slc7_amd64_gcc10/external/py3-setuptools/60.9.3-ddcab3b6a742c72fed5554de8ccaaf18/lib/python3.9/site-packages/_distutils_hack/__init__.py:17: UserWarning: Distutils was imported before Setuptools, but importing Setuptools also replaces the `distutils` module in `sys.modules`. This may lead to undesirable behaviors or errors. To avoid these issues, avoid using distutils directly, ensure that setuptools is installed in the traditional way (e.g. not an editable install), and/or make sure that setuptools is always imported before distutils.\n",
      "  warnings.warn(\n",
      "/cvmfs/cms.cern.ch/slc7_amd64_gcc10/external/py3-setuptools/60.9.3-ddcab3b6a742c72fed5554de8ccaaf18/lib/python3.9/site-packages/_distutils_hack/__init__.py:30: UserWarning: Setuptools is replacing distutils.\n",
      "  warnings.warn(\"Setuptools is replacing distutils.\")\n"
     ]
    }
   ],
   "source": [
    "import warnings\n",
    "import numpy as np\n",
    "import numba\n",
    "import matplotlib.pyplot as plt\n",
    "from coffea.nanoevents import NanoEventsFactory\n",
    "\n",
    "import awkward as ak"
   ]
  },
  {
   "cell_type": "code",
   "execution_count": 2,
   "id": "1d027f54",
   "metadata": {},
   "outputs": [],
   "source": [
    "fn = \"Hqq_SM_123.root\"\n",
    "with warnings.catch_warnings():\n",
    "    warnings.simplefilter(\"ignore\")\n",
    "    events_1 = NanoEventsFactory.from_root(fn).events()"
   ]
  },
  {
   "cell_type": "code",
   "execution_count": 3,
   "id": "bdb271d5",
   "metadata": {},
   "outputs": [],
   "source": [
    "fn = \"VBF_SM_interfVH_123.root\"\n",
    "with warnings.catch_warnings():\n",
    "    warnings.simplefilter(\"ignore\")\n",
    "    events_2 = NanoEventsFactory.from_root(fn).events()"
   ]
  },
  {
   "cell_type": "code",
   "execution_count": 4,
   "id": "05e71aa0",
   "metadata": {},
   "outputs": [],
   "source": [
    "fn = \"VBF_SM_NOinterfVH_123.root\"\n",
    "with warnings.catch_warnings():\n",
    "    warnings.simplefilter(\"ignore\")\n",
    "    events_3 = NanoEventsFactory.from_root(fn).events()"
   ]
  },
  {
   "cell_type": "code",
   "execution_count": 5,
   "id": "91a43f50",
   "metadata": {},
   "outputs": [],
   "source": [
    "def mjj(e):\n",
    "     \n",
    "    j1 = ak.firsts(e.GenJet[:,0:1])\n",
    "    j2 = ak.firsts(e.GenJet[:,1:2])\n",
    "    \n",
    "    return (j1 + j2).mass   "
   ]
  },
  {
   "cell_type": "code",
   "execution_count": 6,
   "id": "d5e1cb46",
   "metadata": {},
   "outputs": [],
   "source": [
    "def deta(e):\n",
    "    \n",
    "    j1 = ak.firsts(e.GenJet[:,0:1])\n",
    "    j2 = ak.firsts(e.GenJet[:,1:2])\n",
    "    \n",
    "    return abs(j1.eta - j2.eta)"
   ]
  },
  {
   "cell_type": "code",
   "execution_count": 7,
   "id": "4dd85b34",
   "metadata": {},
   "outputs": [
    {
     "data": {
      "text/plain": [
       "<matplotlib.legend.Legend at 0x7fadaae88d60>"
      ]
     },
     "execution_count": 7,
     "metadata": {},
     "output_type": "execute_result"
    },
    {
     "data": {
      "image/png": "[encoded data removed]",
      "text/plain": [
       "<Figure size 432x288 with 1 Axes>"
      ]
     },
     "metadata": {
      "needs_background": "light"
     },
     "output_type": "display_data"
    }
   ],
   "source": [
    "plt.hist(events_1.GenJet.pt[:,0:1],histtype='step',bins=np.linspace(0,500,101),label='p p > h q q')\n",
    "plt.hist(events_2.GenJet.pt[:,0:1],histtype='step',bins=np.linspace(0,500,101),label='p p > h q q \\$ w+ w- z')\n",
    "plt.hist(events_3.GenJet.pt[:,0:1],histtype='step',bins=np.linspace(0,500,101),label='p p > h q q \\$\\$ w+ w- z')\n",
    "\n",
    "plt.yscale('log')\n",
    "plt.ylabel('Events')\n",
    "plt.xlabel(r'Jet 1 $p_T$')\n",
    "\n",
    "plt.legend(frameon=False)"
   ]
  },
  {
   "cell_type": "code",
   "execution_count": 8,
   "id": "4e4a0420",
   "metadata": {},
   "outputs": [
    {
     "data": {
      "text/plain": [
       "<matplotlib.legend.Legend at 0x7fada2b8eee0>"
      ]
     },
     "execution_count": 8,
     "metadata": {},
     "output_type": "execute_result"
    },
    {
     "data": {
      "image/png": "[encoded data removed]",
      "text/plain": [
       "<Figure size 432x288 with 1 Axes>"
      ]
     },
     "metadata": {
      "needs_background": "light"
     },
     "output_type": "display_data"
    }
   ],
   "source": [
    "plt.hist(ak.firsts(events_1.GenJet.pt[:,1:2]),histtype='step',bins=np.linspace(0,500,101),label='p p > h q q')\n",
    "plt.hist(ak.firsts(events_2.GenJet.pt[:,1:2]),histtype='step',bins=np.linspace(0,500,101),label='p p > h q q \\$ w+ w- z')\n",
    "plt.hist(ak.firsts(events_3.GenJet.pt[:,1:2]),histtype='step',bins=np.linspace(0,500,101),label='p p > h q q \\$\\$ w+ w- z')\n",
    "\n",
    "plt.yscale('log')\n",
    "plt.ylabel('Events')\n",
    "plt.xlabel(r'Jet 2 $p_T$')\n",
    "\n",
    "plt.legend(frameon=False)"
   ]
  },
  {
   "cell_type": "code",
   "execution_count": 9,
   "id": "ca0b8797",
   "metadata": {},
   "outputs": [
    {
     "data": {
      "text/plain": [
       "<matplotlib.legend.Legend at 0x7fada2a6f4f0>"
      ]
     },
     "execution_count": 9,
     "metadata": {},
     "output_type": "execute_result"
    },
    {
     "data": {
      "image/png": "[encoded data removed]",
      "text/plain": [
       "<Figure size 432x288 with 1 Axes>"
      ]
     },
     "metadata": {
      "needs_background": "light"
     },
     "output_type": "display_data"
    }
   ],
   "source": [
    "plt.hist(mjj(events_1),histtype='step',bins=np.linspace(0,2000,101),label='p p > h q q')\n",
    "plt.hist(mjj(events_2),histtype='step',bins=np.linspace(0,2000,101),label='p p > h q q \\$ w+ w- z')\n",
    "plt.hist(mjj(events_3),histtype='step',bins=np.linspace(0,2000,101),label='p p > h q q \\$\\$ w+ w- z')\n",
    "\n",
    "plt.yscale('log')\n",
    "plt.ylabel('Events')\n",
    "plt.xlabel(r'$m_{jj}$')\n",
    "\n",
    "plt.legend(frameon=False)"
   ]
  },
  {
   "cell_type": "code",
   "execution_count": 10,
   "id": "bec28cbb",
   "metadata": {},
   "outputs": [
    {
     "data": {
      "text/plain": [
       "<matplotlib.legend.Legend at 0x7fada2921f10>"
      ]
     },
     "execution_count": 10,
     "metadata": {},
     "output_type": "execute_result"
    },
    {
     "data": {
      "image/png": "[encoded data removed]",
      "text/plain": [
       "<Figure size 432x288 with 1 Axes>"
      ]
     },
     "metadata": {
      "needs_background": "light"
     },
     "output_type": "display_data"
    }
   ],
   "source": [
    "plt.hist(deta(events_1),histtype='step',bins=np.linspace(0,5,101),label='p p > h q q')\n",
    "plt.hist(deta(events_2),histtype='step',bins=np.linspace(0,5,101),label='p p > h q q \\$ w+ w- z')\n",
    "plt.hist(deta(events_3),histtype='step',bins=np.linspace(0,5,101),label='p p > h q q \\$\\$ w+ w- z')\n",
    "\n",
    "plt.yscale('log')\n",
    "plt.ylabel('Events')\n",
    "plt.xlabel(r'$\\Delta\\eta_{jj}$')\n",
    "\n",
    "plt.legend(frameon=False)"
   ]
  },
  {
   "cell_type": "code",
   "execution_count": null,
   "id": "1f0ded62",
   "metadata": {},
   "outputs": [],
   "source": []
  }
 ],
 "metadata": {
  "kernelspec": {
   "display_name": "Python 3 (ipykernel)",
   "language": "python",
   "name": "python3"
  },
  "language_info": {
   "codemirror_mode": {
    "name": "ipython",
    "version": 3
   },
   "file_extension": ".py",
   "mimetype": "text/x-python",
   "name": "python",
   "nbconvert_exporter": "python",
   "pygments_lexer": "ipython3",
   "version": "3.9.6"
  }
 },
 "nbformat": 4,
 "nbformat_minor": 5
}
