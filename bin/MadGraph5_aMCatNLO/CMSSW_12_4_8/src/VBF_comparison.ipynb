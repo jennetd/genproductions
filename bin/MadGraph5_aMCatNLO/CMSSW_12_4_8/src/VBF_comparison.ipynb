{
 "cells": [
  {
   "cell_type": "code",
   "execution_count": 1,
   "id": "706dd98b",
   "metadata": {},
   "outputs": [
    {
     "name": "stderr",
     "output_type": "stream",
     "text": [
      "/cvmfs/cms.cern.ch/slc7_amd64_gcc10/external/py3-setuptools/60.9.3-ddcab3b6a742c72fed5554de8ccaaf18/lib/python3.9/site-packages/_distutils_hack/__init__.py:17: UserWarning: Distutils was imported before Setuptools, but importing Setuptools also replaces the `distutils` module in `sys.modules`. This may lead to undesirable behaviors or errors. To avoid these issues, avoid using distutils directly, ensure that setuptools is installed in the traditional way (e.g. not an editable install), and/or make sure that setuptools is always imported before distutils.\n",
      "  warnings.warn(\n",
      "/cvmfs/cms.cern.ch/slc7_amd64_gcc10/external/py3-setuptools/60.9.3-ddcab3b6a742c72fed5554de8ccaaf18/lib/python3.9/site-packages/_distutils_hack/__init__.py:30: UserWarning: Setuptools is replacing distutils.\n",
      "  warnings.warn(\"Setuptools is replacing distutils.\")\n"
     ]
    }
   ],
   "source": [
    "import warnings\n",
    "import numpy as np\n",
    "import numba\n",
    "import matplotlib.pyplot as plt\n",
    "from coffea.nanoevents import NanoEventsFactory\n",
    "\n",
    "import awkward as ak"
   ]
  },
  {
   "cell_type": "code",
   "execution_count": 2,
   "id": "1d027f54",
   "metadata": {},
   "outputs": [],
   "source": [
    "fn = \"Hqq_SM_123.root\"\n",
    "with warnings.catch_warnings():\n",
    "    warnings.simplefilter(\"ignore\")\n",
    "    events_1 = NanoEventsFactory.from_root(fn).events()"
   ]
  },
  {
   "cell_type": "code",
   "execution_count": 3,
   "id": "bdb271d5",
   "metadata": {},
   "outputs": [],
   "source": [
    "fn = \"VBF_SM_interfVH_123.root\"\n",
    "with warnings.catch_warnings():\n",
    "    warnings.simplefilter(\"ignore\")\n",
    "    events_2 = NanoEventsFactory.from_root(fn).events()"
   ]
  },
  {
   "cell_type": "code",
   "execution_count": 4,
   "id": "05e71aa0",
   "metadata": {},
   "outputs": [],
   "source": [
    "fn = \"VBF_SM_NOinterfVH_123.root\"\n",
    "with warnings.catch_warnings():\n",
    "    warnings.simplefilter(\"ignore\")\n",
    "    events_3 = NanoEventsFactory.from_root(fn).events()"
   ]
  },
  {
   "cell_type": "code",
   "execution_count": 5,
   "id": "35fc8d2b",
   "metadata": {},
   "outputs": [
    {
     "data": {
      "text/plain": [
       "<Array [1, 1, 1, 1, 1, 1, ... 1, 1, 1, 1, 1, 1] type='1000 * float32[parameters=...'>"
      ]
     },
     "execution_count": 5,
     "metadata": {},
     "output_type": "execute_result"
    }
   ],
   "source": [
    "events_1.genWeight"
   ]
  },
  {
   "cell_type": "code",
   "execution_count": 6,
   "id": "91a43f50",
   "metadata": {},
   "outputs": [],
   "source": [
    "def mjj(e):\n",
    "     \n",
    "    j1 = ak.firsts(e.GenJet[:,0:1])\n",
    "    j2 = ak.firsts(e.GenJet[:,1:2])\n",
    "    \n",
    "    return (j1 + j2).mass   "
   ]
  },
  {
   "cell_type": "code",
   "execution_count": 7,
   "id": "d5e1cb46",
   "metadata": {},
   "outputs": [],
   "source": [
    "def deta(e):\n",
    "    \n",
    "    j1 = ak.firsts(e.GenJet[:,0:1])\n",
    "    j2 = ak.firsts(e.GenJet[:,1:2])\n",
    "    \n",
    "    return abs(j1.eta - j2.eta)"
   ]
  },
  {
   "cell_type": "code",
   "execution_count": 8,
   "id": "4dd85b34",
   "metadata": {},
   "outputs": [
    {
     "data": {
      "text/plain": [
       "<matplotlib.legend.Legend at 0x7f1f13d43fd0>"
      ]
     },
     "execution_count": 8,
     "metadata": {},
     "output_type": "execute_result"
    },
    {
     "data": {
      "image/png": "[encoded data removed]",
      "text/plain": [
       "<Figure size 432x288 with 1 Axes>"
      ]
     },
     "metadata": {
      "needs_background": "light"
     },
     "output_type": "display_data"
    }
   ],
   "source": [
    "bins=np.linspace(0,500,11)\n",
    "\n",
    "h1 = plt.hist(events_1.GenJet.pt[:,0:1],weights=events_1.genWeight,histtype='step',bins=np.linspace(0,500,11),label='p p > h q q',color='black')\n",
    "h2 = plt.hist(events_2.GenJet.pt[:,0:1],weights=events_2.genWeight,histtype='step',bins=np.linspace(0,500,11),label='p p > h q q \\$ w+ w- z',color='blue')\n",
    "h3 = plt.hist(events_3.GenJet.pt[:,0:1],weights=events_3.genWeight,histtype='step',bins=np.linspace(0,500,11),label='p p > h q q \\$\\$ w+ w- z',color='red')\n",
    "\n",
    "bincenters = 25+bins[:-1]\n",
    "plt.errorbar(x=bincenters,y=h1[0],yerr=np.sqrt(h1[0]),marker='.',linestyle='',color='black')\n",
    "plt.errorbar(x=bincenters,y=h2[0],yerr=np.sqrt(h2[0]),marker='.',linestyle='',color='blue')\n",
    "plt.errorbar(x=bincenters,y=h3[0],yerr=np.sqrt(h3[0]),marker='.',linestyle='',color='red')\n",
    "\n",
    "plt.yscale('log')\n",
    "plt.ylabel('Events')\n",
    "plt.xlabel(r'Jet 1 $p_T$')\n",
    "\n",
    "plt.legend(frameon=False)"
   ]
  },
  {
   "cell_type": "code",
   "execution_count": 9,
   "id": "4e4a0420",
   "metadata": {},
   "outputs": [
    {
     "data": {
      "text/plain": [
       "<matplotlib.legend.Legend at 0x7f1f13bf0340>"
      ]
     },
     "execution_count": 9,
     "metadata": {},
     "output_type": "execute_result"
    },
    {
     "data": {
      "image/png": "[encoded data removed]",
      "text/plain": [
       "<Figure size 432x288 with 1 Axes>"
      ]
     },
     "metadata": {
      "needs_background": "light"
     },
     "output_type": "display_data"
    }
   ],
   "source": [
    "bins=np.linspace(0,500,11)\n",
    "\n",
    "h1 = plt.hist(ak.firsts(events_1.GenJet.pt[:,1:2]),weights=events_1.genWeight,histtype='step',bins=bins,label='p p > h q q',color='black')\n",
    "h2 = plt.hist(ak.firsts(events_2.GenJet.pt[:,1:2]),weights=events_2.genWeight,histtype='step',bins=bins,label='p p > h q q \\$ w+ w- z',color='blue')\n",
    "h3 = plt.hist(ak.firsts(events_3.GenJet.pt[:,1:2]),weights=events_3.genWeight,histtype='step',bins=bins,label='p p > h q q \\$\\$ w+ w- z',color='red')\n",
    "\n",
    "bincenters = 25+bins[:-1]\n",
    "plt.errorbar(x=bincenters,y=h1[0],yerr=np.sqrt(h1[0]),marker='.',linestyle='',color='black')\n",
    "plt.errorbar(x=bincenters,y=h2[0],yerr=np.sqrt(h2[0]),marker='.',linestyle='',color='blue')\n",
    "plt.errorbar(x=bincenters,y=h3[0],yerr=np.sqrt(h3[0]),marker='.',linestyle='',color='red')\n",
    "\n",
    "plt.yscale('log')\n",
    "plt.ylabel('Events')\n",
    "plt.xlabel(r'Jet 2 $p_T$')\n",
    "\n",
    "plt.legend(frameon=False)"
   ]
  },
  {
   "cell_type": "code",
   "execution_count": 10,
   "id": "ca0b8797",
   "metadata": {},
   "outputs": [
    {
     "data": {
      "text/plain": [
       "<matplotlib.legend.Legend at 0x7f1f139f74f0>"
      ]
     },
     "execution_count": 10,
     "metadata": {},
     "output_type": "execute_result"
    },
    {
     "data": {
      "image/png": "[encoded data removed]",
      "text/plain": [
       "<Figure size 432x288 with 1 Axes>"
      ]
     },
     "metadata": {
      "needs_background": "light"
     },
     "output_type": "display_data"
    }
   ],
   "source": [
    "bins=np.linspace(0,2000,11)\n",
    "\n",
    "h1 = plt.hist(mjj(events_1),weights=events_1.genWeight,histtype='step',bins=bins,label='p p > h q q',color='black')\n",
    "h2 = plt.hist(mjj(events_2),weights=events_2.genWeight,histtype='step',bins=bins,label='p p > h q q \\$ w+ w- z',color='blue')\n",
    "h3 = plt.hist(mjj(events_3),weights=events_3.genWeight,histtype='step',bins=bins,label='p p > h q q \\$\\$ w+ w- z',color='red')\n",
    "\n",
    "bincenters = 100+bins[:-1]\n",
    "plt.errorbar(x=bincenters,y=h1[0],yerr=np.sqrt(h1[0]),marker='.',linestyle='',color='black')\n",
    "plt.errorbar(x=bincenters,y=h2[0],yerr=np.sqrt(h2[0]),marker='.',linestyle='',color='blue')\n",
    "plt.errorbar(x=bincenters,y=h3[0],yerr=np.sqrt(h3[0]),marker='.',linestyle='',color='red')\n",
    "\n",
    "plt.yscale('log')\n",
    "plt.ylabel('Events')\n",
    "plt.xlabel(r'$m_{jj}$')\n",
    "\n",
    "plt.legend(frameon=False)"
   ]
  },
  {
   "cell_type": "code",
   "execution_count": 11,
   "id": "d5d97f4c",
   "metadata": {},
   "outputs": [
    {
     "data": {
      "text/plain": [
       "<matplotlib.legend.Legend at 0x7f1f138350a0>"
      ]
     },
     "execution_count": 11,
     "metadata": {},
     "output_type": "execute_result"
    },
    {
     "data": {
      "image/png": "[encoded data removed]",
      "text/plain": [
       "<Figure size 432x288 with 1 Axes>"
      ]
     },
     "metadata": {
      "needs_background": "light"
     },
     "output_type": "display_data"
    }
   ],
   "source": [
    "bins=np.linspace(0,200,11)\n",
    "\n",
    "h1 = plt.hist(mjj(events_1),weights=events_1.genWeight,histtype='step',bins=bins,label='p p > h q q',color='black')\n",
    "h2 = plt.hist(mjj(events_2),weights=events_2.genWeight,histtype='step',bins=bins,label='p p > h q q \\$ w+ w- z',color='blue')\n",
    "h3 = plt.hist(mjj(events_3),weights=events_3.genWeight,histtype='step',bins=bins,label='p p > h q q \\$\\$ w+ w- z',color='red')\n",
    "\n",
    "bincenters = 10+bins[:-1]\n",
    "plt.errorbar(x=bincenters,y=h1[0],yerr=np.sqrt(h1[0]),marker='.',linestyle='',color='black')\n",
    "plt.errorbar(x=bincenters,y=h2[0],yerr=np.sqrt(h2[0]),marker='.',linestyle='',color='blue')\n",
    "plt.errorbar(x=bincenters,y=h3[0],yerr=np.sqrt(h3[0]),marker='.',linestyle='',color='red')\n",
    "\n",
    "plt.yscale('log')\n",
    "plt.ylabel('Events')\n",
    "plt.xlabel(r'$m_{jj}$')\n",
    "\n",
    "plt.legend(frameon=False,loc='lower right')"
   ]
  },
  {
   "cell_type": "code",
   "execution_count": 12,
   "id": "bec28cbb",
   "metadata": {},
   "outputs": [
    {
     "data": {
      "text/plain": [
       "<matplotlib.legend.Legend at 0x7f1f13a6cf70>"
      ]
     },
     "execution_count": 12,
     "metadata": {},
     "output_type": "execute_result"
    },
    {
     "data": {
      "image/png": "[encoded data removed]",
      "text/plain": [
       "<Figure size 432x288 with 1 Axes>"
      ]
     },
     "metadata": {
      "needs_background": "light"
     },
     "output_type": "display_data"
    }
   ],
   "source": [
    "bins=np.linspace(0,5,6)\n",
    "\n",
    "h1 = plt.hist(deta(events_1),weights=events_1.genWeight,histtype='step',bins=bins,label='p p > h q q',color='black')\n",
    "h2 = plt.hist(deta(events_2),weights=events_2.genWeight,histtype='step',bins=bins,label='p p > h q q \\$ w+ w- z',color='blue')\n",
    "h3 = plt.hist(deta(events_3),weights=events_3.genWeight,histtype='step',bins=bins,label='p p > h q q \\$\\$ w+ w- z',color='red')\n",
    "\n",
    "bincenters = 0.5+bins[:-1]\n",
    "plt.errorbar(x=bincenters,y=h1[0],yerr=np.sqrt(h1[0]),marker='.',linestyle='',color='black')\n",
    "plt.errorbar(x=bincenters,y=h2[0],yerr=np.sqrt(h2[0]),marker='.',linestyle='',color='blue')\n",
    "plt.errorbar(x=bincenters,y=h3[0],yerr=np.sqrt(h3[0]),marker='.',linestyle='',color='red')\n",
    "\n",
    "plt.yscale('log')\n",
    "plt.ylabel('Events')\n",
    "plt.xlabel(r'$\\Delta\\eta_{jj}$')\n",
    "\n",
    "plt.legend(frameon=False)"
   ]
  },
  {
   "cell_type": "code",
   "execution_count": null,
   "id": "1f0ded62",
   "metadata": {},
   "outputs": [],
   "source": []
  }
 ],
 "metadata": {
  "kernelspec": {
   "display_name": "Python 3 (ipykernel)",
   "language": "python",
   "name": "python3"
  },
  "language_info": {
   "codemirror_mode": {
    "name": "ipython",
    "version": 3
   },
   "file_extension": ".py",
   "mimetype": "text/x-python",
   "name": "python",
   "nbconvert_exporter": "python",
   "pygments_lexer": "ipython3",
   "version": "3.9.6"
  }
 },
 "nbformat": 4,
 "nbformat_minor": 5
}
